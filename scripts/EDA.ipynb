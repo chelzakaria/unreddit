{
 "cells": [
  {
   "cell_type": "code",
   "execution_count": 1,
   "metadata": {},
   "outputs": [],
   "source": [
    "import pandas as pd\n",
    "from datetime import datetime"
   ]
  },
  {
   "cell_type": "markdown",
   "metadata": {},
   "source": [
    "## Submissions"
   ]
  },
  {
   "cell_type": "code",
   "execution_count": 2,
   "metadata": {},
   "outputs": [],
   "source": [
    "subs = pd.read_csv('../data/morocco/submissions.csv', low_memory=False)\n",
    "\n",
    "# drop unnecessary columns\n",
    "subs.drop(columns=['Unnamed: 0', 'media', 'media_embed', 'thumbnail'], inplace=True)\n",
    "\n",
    "# delete rows with [deleted by user] or [ Removed by Reddit ] in title\n",
    "subs = subs[subs['title'] != '[deleted by user]']\n",
    "subs = subs[subs['title'] != '[ Removed by Reddit ]']\n",
    "\n",
    "# replace [deleted] and [removed] with Empty str in selftext and author\n",
    "subs['selftext'] = subs['selftext'].replace(['[deleted]', '[removed]', 'Title'], None)\n",
    "subs['author'] = subs['author'].replace('[deleted]', None)\n",
    "\n",
    "\n",
    "# drop duplicates\n",
    "subs.drop_duplicates(subset=['id'], inplace=True)\n",
    "subs.reset_index(drop=True, inplace=True)\n",
    "\n",
    "# change created_utc to datetime type\n",
    "subs['created_utc'] = pd.to_datetime(subs['created_utc'])\n"
   ]
  },
  {
   "cell_type": "code",
   "execution_count": 3,
   "metadata": {},
   "outputs": [],
   "source": [
    "#subs.to_csv('../data/cleaned/submissions.csv', index=False)"
   ]
  },
  {
   "cell_type": "markdown",
   "metadata": {},
   "source": [
    "## Comments"
   ]
  },
  {
   "cell_type": "code",
   "execution_count": 4,
   "metadata": {},
   "outputs": [],
   "source": [
    "comments = pd.read_csv('../data/morocco/comments.csv', low_memory=False)\n",
    "\n",
    "# drop unnecessary columns\n",
    "comments.drop(columns=['Unnamed: 0', 'subreddit_id', 'subreddit'], inplace=True)\n",
    "\n",
    "# replace [deleted] and [removed] with Empty str in author\n",
    "comments['author'] = comments['author'].replace('[deleted]', None)\n",
    "\n",
    "# remove AutoModerator comments\n",
    "comments = comments[comments['author'] != 'AutoModerator']\n",
    "\n",
    "# drop rows with [deleted] or [removed] in body\n",
    "comments = comments[comments['body'] != '[deleted]']\n",
    "comments = comments[comments['body'] != '[removed]']\n",
    "\n",
    "# drop duplicates\n",
    "comments.drop_duplicates(subset=['id'], inplace=True)\n",
    "comments.reset_index(drop=True, inplace=True)\n",
    "\n",
    "# change created_utc to datetime type\n",
    "comments['created_utc'] = pd.to_datetime(comments['created_utc'])\n",
    "\n",
    "# format link_id and parent_id to match submission id\n",
    "comments['link_id'] = comments['link_id'].str.split('_').str[1]\n",
    "comments['parent_id'] = comments['parent_id'].str.split('_').str[1]\n"
   ]
  },
  {
   "cell_type": "code",
   "execution_count": 5,
   "metadata": {},
   "outputs": [
    {
     "data": {
      "text/plain": [
       "870662"
      ]
     },
     "execution_count": 5,
     "metadata": {},
     "output_type": "execute_result"
    }
   ],
   "source": [
    "len(comments)"
   ]
  },
  {
   "cell_type": "code",
   "execution_count": 6,
   "metadata": {},
   "outputs": [],
   "source": [
    "comments.to_csv('../data/cleaned/comments.csv', index=False)"
   ]
  }
 ],
 "metadata": {
  "kernelspec": {
   "display_name": "Python 3",
   "language": "python",
   "name": "python3"
  },
  "language_info": {
   "codemirror_mode": {
    "name": "ipython",
    "version": 3
   },
   "file_extension": ".py",
   "mimetype": "text/x-python",
   "name": "python",
   "nbconvert_exporter": "python",
   "pygments_lexer": "ipython3",
   "version": "3.10.7"
  }
 },
 "nbformat": 4,
 "nbformat_minor": 2
}
