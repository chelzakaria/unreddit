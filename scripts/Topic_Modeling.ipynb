{
 "cells": [
  {
   "cell_type": "code",
   "execution_count": 38,
   "metadata": {},
   "outputs": [],
   "source": [
    "from bertopic import BERTopic\n",
    "from nltk.tokenize import sent_tokenize, word_tokenize\n",
    "import pandas as pd"
   ]
  },
  {
   "cell_type": "code",
   "execution_count": 39,
   "metadata": {},
   "outputs": [
    {
     "data": {
      "text/plain": [
       "0         None\n",
       "1         None\n",
       "2         None\n",
       "3         None\n",
       "4         None\n",
       "          ... \n",
       "870657    None\n",
       "870658    None\n",
       "870659    None\n",
       "870660    None\n",
       "870661    None\n",
       "Name: body, Length: 870662, dtype: object"
      ]
     },
     "execution_count": 39,
     "metadata": {},
     "output_type": "execute_result"
    }
   ],
   "source": [
    "posts = pd.read_csv(r'C:\\Users\\legion\\Desktop\\Reddit\\repo\\data\\cleaned\\comments.csv', low_memory=False)\n",
    "docs = []\n",
    "posts.body.apply(lambda x: docs.append(x) if type(x) == str else None)"
   ]
  },
  {
   "cell_type": "code",
   "execution_count": 41,
   "metadata": {},
   "outputs": [
    {
     "data": {
      "text/plain": [
       "['A specific vegetable in general? Like dnjan or something?',\n",
       " 'I think your getting so much offensive from nothing i just said the islamic point of view if you dont accept it i have no problem so you are the one who trying to attack me because i said my point of view in reddit comment man you need to relax i was really trying to make you understand because i understand your point if view in fact i know good satanism people they are just emo teenagers most of the time but in the end its just reddit comment you should not call me close monded when you cant read comment that is not correct in your point of view without getting angry man relax',\n",
       " 'you should read my past reply again , because all of your replies go down to the same question \" why would anybody care what your religion think satan is ? \" . if islam thinks satan is the bad guy , why should i care ? . if you find satanism to be disrespectful based on your religion\\'s view of satan , then that\\'s your problem , you\\'re too close-minded and can\\'t accept the fact that many concepts aren\\'t an objective truth . go fix that before forcing your views on others',\n",
       " 'I dont know about the others religions but do you know who is satan in islam ?\\nBecause satan in islam is the one who is trying to ruin humanity and if you name your organization satan then you are following him its like naming your organization every bad action that can human imagine(killing,make sex with the parent,rape ,robbery,violence,injustice)\\n\\nMaybe its allowed in america because because most of the people are atheists but in morocco when most people are muslims is impossible',\n",
       " 'I don\\'t see the logic here , How\\'s the name satanism is disrespectful to all religions when satan represents something different to each religion who adapts this character ? , in Christianity , rejecting the divinity of jesus means you\\'re following the orders of satan , in Islam the acceptance of jesus as god is following satan\\'s orders . it is basically the old fashioned : \" you can\\'t do this because my religion said so \" . and dude , you\\'re freedom stops when the other\\'s starts and not when it disrespects others lol , if you find simple thoughts as disrespecting the problem is in you , cause everyone has the right to believe in whatever they want and express their thoughts AS LONG AS THEY DON\\'T HURT ANYONE , NOT AS LONG THEY DON\\'T DISRESPECT ANYONE , cause there always gonna be something that is disrespect to someone .',\n",
       " \"I dont really care about what they are if they believe of freedom but their name is just straight disrespectful for all the religions i mean it's like going to america and create an organization and call it terrorist or niggas or going to japan and call your organization hiroshima bomb \\n\\nTheir freedom should stop when they disrespect the others \\n\\nSorry for my bad english\",\n",
       " 'because ?',\n",
       " 'Its fucked up if its legal',\n",
       " 'امين',\n",
       " 'indeed.',\n",
       " 'Yea, they are edgy 13 year olds.',\n",
       " \"People have no idea about LaVey's satanism and still think they get to have an opinion about it. I have a copy of the satanic Bible, I'll curse anyone who dares to insult me or downvote me. I don't need your picture, your name or your mothers name, the curses are so powerful they can find you whoever you are.\",\n",
       " \"I did that and they demanded proof. But still not the weirdest shit I've ever had.\",\n",
       " 'LaVey just wanted to shit on conservative christians of the usa. They are everything wrong with that nation.',\n",
       " 'Lalla miratyyyyyy lala, lala miratyyyyy. \\n\\nL3amar dialy ana, wakha bghiti tharab 🎶🎵🎵🎶']"
      ]
     },
     "execution_count": 41,
     "metadata": {},
     "output_type": "execute_result"
    }
   ],
   "source": [
    "docs[:15]"
   ]
  },
  {
   "cell_type": "code",
   "execution_count": 42,
   "metadata": {},
   "outputs": [],
   "source": [
    "\n",
    "sentences = [sent_tokenize(abstract) for abstract in docs]\n",
    "sentences = [sentence for doc in sentences for sentence in doc]"
   ]
  },
  {
   "cell_type": "code",
   "execution_count": 45,
   "metadata": {},
   "outputs": [
    {
     "data": {
      "text/plain": [
       "'Like dnjan or something?'"
      ]
     },
     "execution_count": 45,
     "metadata": {},
     "output_type": "execute_result"
    }
   ],
   "source": [
    "sentences[1]"
   ]
  }
 ],
 "metadata": {
  "kernelspec": {
   "display_name": "env",
   "language": "python",
   "name": "python3"
  },
  "language_info": {
   "codemirror_mode": {
    "name": "ipython",
    "version": 3
   },
   "file_extension": ".py",
   "mimetype": "text/x-python",
   "name": "python",
   "nbconvert_exporter": "python",
   "pygments_lexer": "ipython3",
   "version": "3.10.7"
  }
 },
 "nbformat": 4,
 "nbformat_minor": 2
}
