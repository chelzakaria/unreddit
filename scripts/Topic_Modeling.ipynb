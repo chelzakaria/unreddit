{
 "cells": [
  {
   "cell_type": "code",
   "execution_count": null,
   "metadata": {},
   "outputs": [],
   "source": [
    "from bertopic import BERTopic\n",
    "# from datasets import load_dataset\n",
    "# from tools import detect_language, get_language_ratio\n",
    "# from sentence_transformers import SentenceTransformer\n",
    "# from nltk.tokenize import sent_tokenize, word_tokenize\n",
    "from sklearn.feature_extraction.text import CountVectorizer\n",
    "import pandas as pd\n",
    "import spacy\n",
    "from nltk.corpus import stopwords\n"
   ]
  },
  {
   "cell_type": "code",
   "execution_count": null,
   "metadata": {},
   "outputs": [],
   "source": [
    "spacy.prefer_gpu()\n",
    "nlp = spacy.load('en_core_web_trf')"
   ]
  },
  {
   "cell_type": "code",
   "execution_count": null,
   "metadata": {},
   "outputs": [],
   "source": [
    "stop_words = list(set(stopwords.words('english')))\n",
    "stop_words.extend(set(stopwords.words('french')))\n",
    "stop_words.extend(set(stopwords.words('arabic')))"
   ]
  },
  {
   "cell_type": "code",
   "execution_count": null,
   "metadata": {},
   "outputs": [],
   "source": [
    "# loading fasttext model\n",
    "# fasttext_model = fasttext.load_model(\"../lid.176.bin\")"
   ]
  },
  {
   "cell_type": "code",
   "execution_count": 8,
   "metadata": {},
   "outputs": [
    {
     "data": {
      "text/plain": [
       "0          None\n",
       "1          None\n",
       "2          None\n",
       "3          None\n",
       "4          None\n",
       "           ... \n",
       "1203987    None\n",
       "1203988    None\n",
       "1203989    None\n",
       "1203990    None\n",
       "1203991    None\n",
       "Name: body, Length: 1203992, dtype: object"
      ]
     },
     "execution_count": 8,
     "metadata": {},
     "output_type": "execute_result"
    }
   ],
   "source": [
    "with open('../data/cleaned/comments.csv', 'r', encoding='utf-8') as file:\n",
    "    comments_df = pd.read_csv(file, low_memory=False)\n",
    "comments_df.fillna('', inplace=True)\n",
    "comments = []\n",
    "comments_df.body.apply(lambda x: comments.append(x))"
   ]
  },
  {
   "cell_type": "code",
   "execution_count": null,
   "metadata": {},
   "outputs": [],
   "source": [
    "with open('../data/cleaned/submissions.csv', 'r', encoding='utf-8') as file:\n",
    "    submissions = pd.read_csv(file)    \n",
    "submissions.fillna('', inplace=True)\n",
    "# concat title and selftext\n",
    "submissions['body'] = submissions['title'] + ' ' + submissions['selftext']\n",
    "posts = []\n",
    "submissions.body.apply(lambda x: posts.append(x))"
   ]
  },
  {
   "cell_type": "code",
   "execution_count": null,
   "metadata": {},
   "outputs": [],
   "source": [
    "sentences = [sent_tokenize(post) for post in posts]\n",
    "sentences = [sentence for doc in sentences for sentence in doc]"
   ]
  },
  {
   "cell_type": "code",
   "execution_count": null,
   "metadata": {},
   "outputs": [],
   "source": [
    "vectorizer_model = CountVectorizer(stop_words=stop_words, min_df=2, ngram_range=(1, 2))\n",
    "topic_model = BERTopic(embedding_model=nlp.pipe, verbose=True, language=\"multilingual\", vectorizer_model=vectorizer_model)\n",
    "topics, _ = topic_model.fit_transform(posts)\n",
    "topic_model.get_topic_info().head(25)"
   ]
  },
  {
   "cell_type": "code",
   "execution_count": 9,
   "metadata": {},
   "outputs": [
    {
     "name": "stderr",
     "output_type": "stream",
     "text": [
      "2024-06-04 21:52:03,175 - BERTopic - Embedding - Transforming documents to embeddings.\n"
     ]
    },
    {
     "data": {
      "application/vnd.jupyter.widget-view+json": {
       "model_id": "8fc5479db83240728f835e0aef831910",
       "version_major": 2,
       "version_minor": 0
      },
      "text/plain": [
       "Batches:   0%|          | 0/37625 [00:00<?, ?it/s]"
      ]
     },
     "metadata": {},
     "output_type": "display_data"
    }
   ],
   "source": [
    "vectorizer_model = CountVectorizer(stop_words=stop_words, min_df=3, ngram_range=(1, 2))\n",
    "topic_model = BERTopic(embedding_model=nlp.pipe, verbose=True, language=\"multilingual\", vectorizer_model=vectorizer_model)\n",
    "topics, _ = topic_model.fit_transform(comments)\n",
    "topic_model.get_topic_info().head(25)"
   ]
  },
  {
   "cell_type": "code",
   "execution_count": null,
   "metadata": {},
   "outputs": [],
   "source": []
  }
 ],
 "metadata": {
  "kernelspec": {
   "display_name": "env",
   "language": "python",
   "name": "python3"
  },
  "language_info": {
   "codemirror_mode": {
    "name": "ipython",
    "version": 3
   },
   "file_extension": ".py",
   "mimetype": "text/x-python",
   "name": "python",
   "nbconvert_exporter": "python",
   "pygments_lexer": "ipython3",
   "version": "3.10.7"
  }
 },
 "nbformat": 4,
 "nbformat_minor": 2
}
