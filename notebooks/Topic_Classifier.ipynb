{
 "cells": [
  {
   "cell_type": "code",
   "execution_count": 1,
   "metadata": {},
   "outputs": [],
   "source": [
    "from transformers import pipeline\n",
    "from collections import Counter\n",
    "from tqdm import tqdm\n",
    "import pandas as pd\n",
    "import torch"
   ]
  },
  {
   "cell_type": "code",
   "execution_count": null,
   "metadata": {},
   "outputs": [],
   "source": [
    "device = torch.device(\"cuda\" if torch.cuda.is_available() else \"cpu\")\n",
    "pipe = pipeline(\"zero-shot-classification\", model=\"facebook/bart-large-mnli\", device=device)"
   ]
  },
  {
   "cell_type": "code",
   "execution_count": 77,
   "metadata": {},
   "outputs": [],
   "source": [
    "# define a custom label set\n",
    "candidate_labels = [\n",
    "'Self improvement',\n",
    "'Relationships',\n",
    "'Mental Health',\n",
    "'Social Issues',\n",
    "'Entertainment',\n",
    "'Environment',\n",
    "'Technology',\n",
    "'Lifestyle',\n",
    "'Education',\n",
    "'Politics',\n",
    "'Religion',\n",
    "'Culture',\n",
    "'Economy',\n",
    "'History',\n",
    "'Society',\n",
    "'Health',\n",
    "'Research',\n",
    "'Career',\n",
    "'Travel',\n",
    "'Sports',\n",
    "'Music',\n",
    "'Humor',\n",
    "'Food',\n",
    "'Art',]"
   ]
  },
  {
   "cell_type": "code",
   "execution_count": null,
   "metadata": {},
   "outputs": [],
   "source": [
    "# read in the data\n",
    "data = pd.read_csv('/home/chel/folder/RedDash/data/topic_info_cleaned.csv')\n",
    "data = data.dropna(subset=['LLM'])"
   ]
  },
  {
   "cell_type": "code",
   "execution_count": 78,
   "metadata": {},
   "outputs": [],
   "source": [
    "batch_size = 32 # number of sequences to process at once\n",
    "sequences = data['LLM'].to_list()\n",
    "results = []"
   ]
  },
  {
   "cell_type": "code",
   "execution_count": 79,
   "metadata": {},
   "outputs": [
    {
     "name": "stderr",
     "output_type": "stream",
     "text": [
      "100%|██████████| 20/20 [48:24<00:00, 145.21s/it]\n"
     ]
    }
   ],
   "source": [
    "for i in tqdm(range(0, len(sequences), batch_size)):\n",
    "    results += pipe(sequences[i:i+batch_size], candidate_labels)"
   ]
  },
  {
   "cell_type": "code",
   "execution_count": 80,
   "metadata": {},
   "outputs": [],
   "source": [
    "# extract the top label for each sequence\n",
    "li = [lab['labels'][0] for lab in results]\n",
    "data['Category'] = li"
   ]
  },
  {
   "cell_type": "code",
   "execution_count": 94,
   "metadata": {},
   "outputs": [
    {
     "data": {
      "text/plain": [
       "Counter({'Lifestyle': 486,\n",
       "         'Culture': 446,\n",
       "         'Self improvement': 386,\n",
       "         'Entertainment': 373,\n",
       "         'Humor': 345,\n",
       "         'Research': 325,\n",
       "         'Relationships': 256,\n",
       "         'Technology': 226,\n",
       "         'Environment': 216,\n",
       "         'Economy': 199,\n",
       "         'Career': 180,\n",
       "         'Travel': 180,\n",
       "         'History': 175,\n",
       "         'Health': 172,\n",
       "         'Food': 167,\n",
       "         'Society': 156,\n",
       "         'Religion': 121,\n",
       "         'Sports': 109,\n",
       "         'Social Issues': 103,\n",
       "         'Education': 68,\n",
       "         'Mental Health': 68,\n",
       "         'Politics': 57,\n",
       "         'Music': 52,\n",
       "         'Art': 38})"
      ]
     },
     "execution_count": 94,
     "metadata": {},
     "output_type": "execute_result"
    }
   ],
   "source": [
    "# count the number of times each label appears\n",
    "Counter(li)"
   ]
  },
  {
   "cell_type": "code",
   "execution_count": 93,
   "metadata": {},
   "outputs": [],
   "source": [
    "data.to_csv('../data/results/topic_info_categories.csv')"
   ]
  }
 ],
 "metadata": {
  "kernelspec": {
   "display_name": "env",
   "language": "python",
   "name": "python3"
  },
  "language_info": {
   "codemirror_mode": {
    "name": "ipython",
    "version": 3
   },
   "file_extension": ".py",
   "mimetype": "text/x-python",
   "name": "python",
   "nbconvert_exporter": "python",
   "pygments_lexer": "ipython3",
   "version": "3.11.4"
  }
 },
 "nbformat": 4,
 "nbformat_minor": 2
}
